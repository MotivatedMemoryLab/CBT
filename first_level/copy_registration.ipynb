{
 "cells": [
  {
   "cell_type": "markdown",
   "metadata": {},
   "source": [
    "# Copy Registration File to First Level "
   ]
  },
  {
   "cell_type": "markdown",
   "metadata": {},
   "source": [
    "Since the second level analyses read the first level results, but also depend on the registration files from preprocessing, we need to copy the registration files over to the result folder of first-level."
   ]
  },
  {
   "cell_type": "code",
   "execution_count": null,
   "metadata": {},
   "outputs": [],
   "source": [
    "import sys\n",
    "import os\n",
    "import fnmatch\n",
    "import shutil\n",
    "import subprocess\n",
    "import numpy as np"
   ]
  },
  {
   "cell_type": "markdown",
   "metadata": {},
   "source": [
    "Change here:"
   ]
  },
  {
   "cell_type": "code",
   "execution_count": null,
   "metadata": {},
   "outputs": [],
   "source": [
    "##### CONFIGURATION\n",
    "EXP_DIR = '/Volumes/adcock_lab/main/studies/CBT.01'\n",
    "first_level_models = ['standard_with_feedback_2']\n",
    "subject_list_fname = 'CBT_subjs.txt'\n",
    "\n",
    "REG_DIR = os.path.join(EXP_DIR, 'analysis/preprocessing')\n",
    "DEST_ROOT = os.path.join(EXP_DIR, 'analysis/firstlevel')\n",
    "subject_list = os.path.join(EXP_DIR, 'scripts/analysis_scripts/subject_lists', subject_list_fname)"
   ]
  },
  {
   "cell_type": "code",
   "execution_count": null,
   "metadata": {},
   "outputs": [],
   "source": [
    "# BEGIN SCRIPT\n",
    "SUBJECTS = np.genfromtxt(subject_list, dtype='string')\n",
    "for subj in SUBJECTS:\n",
    "\n",
    "    for model in first_level_models:\n",
    "\n",
    "        for run in ['LOCALIZER', 'TRAIN1', 'TRAIN2', 'TRAIN3', 'TRAIN4', 'TRAIN5']:\n",
    "\n",
    "            src_dir = os.path.join(REG_DIR, subj, (run + '.feat'), 'reg')\n",
    "            dest_dir = os.path.join(DEST_ROOT, model, subj, (run + '.feat'))\n",
    "            if not os.path.isdir(dest_dir):\n",
    "                os.makedirs(dest_dir)\n",
    "                    \n",
    "            # if the registration directory already exists for this subject/run, delete it\n",
    "            if os.path.exists(os.path.join(dest_dir, 'reg')):\n",
    "                shutil.rmtree(os.path.join(dest_dir, 'reg'))\n",
    "                \n",
    "            # copy over the new reg directory\n",
    "            job_name = ('cp -r ' + src_dir + ' ' + dest_dir)\n",
    "            os.system(job_name)\n",
    "            \n",
    "            print subj + ' ' + run + ' registration copying to ' + dest_dir"
   ]
  }
 ],
 "metadata": {
  "kernelspec": {
   "display_name": "Python 3",
   "language": "python",
   "name": "python3"
  },
  "language_info": {
   "codemirror_mode": {
    "name": "ipython",
    "version": 3
   },
   "file_extension": ".py",
   "mimetype": "text/x-python",
   "name": "python",
   "nbconvert_exporter": "python",
   "pygments_lexer": "ipython3",
   "version": "3.6.4"
  }
 },
 "nbformat": 4,
 "nbformat_minor": 2
}
