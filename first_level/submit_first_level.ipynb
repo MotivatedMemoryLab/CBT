{
 "cells": [
  {
   "cell_type": "markdown",
   "metadata": {},
   "source": [
    "# Submit Job to Condor"
   ]
  },
  {
   "cell_type": "code",
   "execution_count": null,
   "metadata": {},
   "outputs": [],
   "source": [
    "import sys\n",
    "import os\n",
    "import numpy as np\n",
    "import CBT_firstlevel\n",
    "import condor"
   ]
  },
  {
   "cell_type": "markdown",
   "metadata": {},
   "source": [
    "change the following"
   ]
  },
  {
   "cell_type": "code",
   "execution_count": 2,
   "metadata": {},
   "outputs": [],
   "source": [
    "# USER VARIABLES ####################\n",
    "EXP_DIR = '/Volumes/adcock_lab/main/studies/CBT.01'\n",
    "subject_list_fname = 'CBT_subjs.txt'\n",
    "#PPI_ROI = 'prob_VTA_atlas_2mm'\n",
    "#PPI_ROI = 'NAc_spheres'"
   ]
  },
  {
   "cell_type": "markdown",
   "metadata": {},
   "source": [
    "job runs:"
   ]
  },
  {
   "cell_type": "code",
   "execution_count": null,
   "metadata": {},
   "outputs": [],
   "source": [
    "# INITIALIZE CONDOR CLUSTER SUBMIT JOB #########################\n",
    "myJob = condor.Job()\n",
    "logDir = os.path.join(EXP_DIR, 'scripts/condor_logs')\n",
    "myJob.setUniverse('vanilla')                                \n",
    "myJob.setOutput(os.path.join(logDir, 'output.txt'))\n",
    "myJob.setError(os.path.join(logDir, 'firstlevel_error.txt'))    \n",
    "myJob.setLog(os.path.join(logDir, 'log.txt'))            \n",
    "myJob._generateSubmitString()\n",
    "##########################################################\n",
    "\n",
    "# BEGIN SCRIPT ######################\n",
    "\n",
    "def runs(subj):\n",
    "    files = os.path.join(EXP_DIR, 'data', 'func', subj)\n",
    "    train_runs = filter(lambda x: x.startswith(\"TRAIN\") and x.endswith(\".nii.gz\"), os.listdir(files))    \n",
    "    return [run.rstrip(\".nii.gz\") for run in train_runs]\n",
    "\n",
    "\n",
    "subject_list = os.path.join(EXP_DIR, 'scripts/analysis_scripts/subject_lists', subject_list_fname)\n",
    "SUBJS = np.genfromtxt(subject_list, dtype='string')\n",
    "\n",
    "\n",
    "for i,subj in enumerate(SUBJS):\n",
    "\n",
    "    ################################################################# \n",
    "    for run in runs(subj):\n",
    "        \n",
    "        # STANDARD MODEL\n",
    "        # standard_job = CBT_firstlevel.standard_model(subj, run)\n",
    "        # myJob.queue(standard_job)\n",
    "\n",
    "        # STANDARD MODEL with feedback\n",
    "        standard_job = CBT_firstlevel.standard_model_with_feedback(subj, run)\n",
    "        myJob.queue(standard_job)\n",
    "\n",
    "        # PPI MODEL\n",
    "        #PPI_job = SRM_firstlevel.PPI_model(subj, run, PPI_ROI)\n",
    "        #myJob.queue(PPI_job)\n",
    "\n",
    "        # THERM MODEL\n",
    "        #if run[:-1] == 'TRAIN':\n",
    "        #    THERM_job = SRM_firstlevel.THERM_model(subj, run)\n",
    "        #    myJob.queue(THERM_job)\n",
    "\n",
    "        print 'added jobs for ' + subj + ' run ' + run\n",
    "\n",
    "\n",
    "myJob.saveSubmitFile(os.path.join(logDir, 'firstlevelSubmit.txt'))\n",
    "myJob.submit()"
   ]
  }
 ],
 "metadata": {
  "kernelspec": {
   "display_name": "Python 3",
   "language": "python",
   "name": "python3"
  },
  "language_info": {
   "codemirror_mode": {
    "name": "ipython",
    "version": 3
   },
   "file_extension": ".py",
   "mimetype": "text/x-python",
   "name": "python",
   "nbconvert_exporter": "python",
   "pygments_lexer": "ipython3",
   "version": "3.6.4"
  }
 },
 "nbformat": 4,
 "nbformat_minor": 2
}
