{
 "cells": [
  {
   "cell_type": "markdown",
   "metadata": {},
   "source": [
    "# Check all data is in LAS"
   ]
  },
  {
   "cell_type": "code",
   "execution_count": 1,
   "metadata": {},
   "outputs": [],
   "source": [
    "import os"
   ]
  },
  {
   "cell_type": "code",
   "execution_count": 4,
   "metadata": {},
   "outputs": [],
   "source": [
    "study_path = \"/Volumes/lpjiang/Documents/CBT.01-copy/bids\""
   ]
  },
  {
   "cell_type": "code",
   "execution_count": 6,
   "metadata": {},
   "outputs": [
    {
     "name": "stdout",
     "output_type": "stream",
     "text": [
      "all data are in LAS\n"
     ]
    }
   ],
   "source": [
    "valid = True\n",
    "for dirpath, dirnames, filenames in os.walk(study_path):\n",
    "    for f in filenames:\n",
    "        if f.endswith(\".bxh\"):\n",
    "            cmd_str = \"fslorient -getorient {}\".format(os.path.join(dirpath, f))\n",
    "            rtn = os.popen(cmd_str).read()\n",
    "            valid = valid and (rtn == \"RADIOLOGICAL\")\n",
    "            if not valid:\n",
    "                print(\"{} in not in RADIOLOGICAL order! (LAS)\".format(os.path.join(dirpath, f)))\n",
    "print(\"all data are in LAS\")"
   ]
  },
  {
   "cell_type": "code",
   "execution_count": null,
   "metadata": {},
   "outputs": [],
   "source": []
  }
 ],
 "metadata": {
  "kernelspec": {
   "display_name": "Python 3",
   "language": "python",
   "name": "python3"
  },
  "language_info": {
   "codemirror_mode": {
    "name": "ipython",
    "version": 3
   },
   "file_extension": ".py",
   "mimetype": "text/x-python",
   "name": "python",
   "nbconvert_exporter": "python",
   "pygments_lexer": "ipython3",
   "version": "3.6.4"
  }
 },
 "nbformat": 4,
 "nbformat_minor": 2
}
