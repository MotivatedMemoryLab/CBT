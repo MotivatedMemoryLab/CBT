{
 "cells": [
  {
   "cell_type": "markdown",
   "metadata": {},
   "source": [
    "# Data Preprocessing"
   ]
  },
  {
   "cell_type": "markdown",
   "metadata": {},
   "source": [
    "This script contains our standard preprocessing model for all CBT runs, which includes:\n",
    "* 4mm smoothing\n",
    "* 80s High pass Filter cutoff\n",
    "* slice timing correction (interleaved up)\n",
    "* registration: 6 DOF\n",
    "* normalization: 12 DOF nonlinear (10 mm warp sphere)"
   ]
  },
  {
   "cell_type": "code",
   "execution_count": 1,
   "metadata": {},
   "outputs": [],
   "source": [
    "import sys\n",
    "import os\n",
    "import numpy as np"
   ]
  },
  {
   "cell_type": "code",
   "execution_count": null,
   "metadata": {},
   "outputs": [],
   "source": [
    "def standard(SUBJ, run_name, EXP_DIR):\n",
    "\n",
    "    run_type = run_name[:-1]\n",
    "    run_num = run_name[-1:]\n",
    "\n",
    "    # specify the number of timepoints\n",
    "    if run_name == 'LOCALIZER':\n",
    "        n_tmpts = 400\n",
    "    else:\n",
    "        n_tmpts = 473\n",
    "\n",
    "    # calculate total datapoints\n",
    "    n_total_datapts = n_tmpts * 64 * 64 * 18\n",
    "\n",
    "\n",
    "    # config vars:\n",
    "    template = 'CBT_preprocessing_standard.fsf'\n",
    "    template_path = os.path.join(EXP_DIR, 'scripts/analysis_scripts/fMRI_workflow/FEAT_templates/preprocessing', template)\n",
    "    anat_dir = os.path.join(EXP_DIR, 'data/anat', SUBJ)\n",
    "    \n",
    "    # inputs\n",
    "    input_data = os.path.join(EXP_DIR,'data/func', SUBJ, (run_name + '.nii.gz'))\n",
    "    #full_anat = os.path.join(anat_dir, 'full_anat_brain.nii.gz')\n",
    "    full_anat = os.path.join(anat_dir, 'full_anat_skull_and_brain.nii.gz')\n",
    "    \n",
    "    # outputs\n",
    "    output_dir = os.path.join(EXP_DIR, 'analysis/preprocessing', SUBJ)\n",
    "    if not os.path.isdir(output_dir):\n",
    "        os.makedirs(output_dir)\n",
    "    output_FSL = os.path.join(output_dir, run_name)\n",
    "    \n",
    "    # open the template file in 'read' mode, extract all of the text\n",
    "    template_file = open(template_path, 'r')\n",
    "    text = template_file.read() \n",
    "    template_file.close()\n",
    "    \n",
    "    # make substitutions to template text\n",
    "    text = text.replace('SUB_OUTPUT_DIR_SUB', output_FSL)\n",
    "    text = text.replace('SUB_INPUT_DATA_SUB', input_data)\n",
    "    text = text.replace('SUB_FULL_ANAT_SUB', full_anat)\n",
    "    text = text.replace('SUB_TMPTS_SUB', str(n_tmpts))\n",
    "    text = text.replace('SUB_TOTAL_DATAPTS_SUB', str(n_total_datapts))\n",
    "    \n",
    "    # write the new text to a unique .fsf file\n",
    "    new_feat_fname = os.path.join(output_dir, (run_name + '_preprocessing.fsf'))\n",
    "    new_feat = open(new_feat_fname, 'w')\n",
    "    new_feat.write(text)\n",
    "    new_feat.close()\n",
    "    \n",
    "    # create job\n",
    "    job = ('feat ' + new_feat_fname)\n",
    "    return job"
   ]
  }
 ],
 "metadata": {
  "kernelspec": {
   "display_name": "Python 3",
   "language": "python",
   "name": "python3"
  },
  "language_info": {
   "codemirror_mode": {
    "name": "ipython",
    "version": 3
   },
   "file_extension": ".py",
   "mimetype": "text/x-python",
   "name": "python",
   "nbconvert_exporter": "python",
   "pygments_lexer": "ipython3",
   "version": "3.6.4"
  }
 },
 "nbformat": 4,
 "nbformat_minor": 2
}
