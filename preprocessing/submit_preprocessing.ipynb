{
 "cells": [
  {
   "cell_type": "markdown",
   "metadata": {},
   "source": [
    "# Submitting Job to Condor"
   ]
  },
  {
   "cell_type": "markdown",
   "metadata": {},
   "source": [
    "This script is used to submit processing jobs to condor "
   ]
  },
  {
   "cell_type": "code",
   "execution_count": null,
   "metadata": {},
   "outputs": [],
   "source": [
    "import sys\n",
    "import os\n",
    "import numpy as np\n",
    "import preprocessing\n",
    "import condor"
   ]
  },
  {
   "cell_type": "markdown",
   "metadata": {},
   "source": [
    "change the following:"
   ]
  },
  {
   "cell_type": "code",
   "execution_count": null,
   "metadata": {},
   "outputs": [],
   "source": [
    "# USER VARIABLES ####################\n",
    "EXP_DIR = '/Volumes/adcock_lab/main/studies/CBT.01'\n",
    "subject_list_fname = 'CBT_test_subjs.txt'"
   ]
  },
  {
   "cell_type": "code",
   "execution_count": null,
   "metadata": {},
   "outputs": [],
   "source": [
    "# INITIALIZE CONDOR CLUSTER SUBMIT JOB #########################\n",
    "myJob = condor.Job()\n",
    "logDir = os.path.join(EXP_DIR, 'scripts/condor_logs')\n",
    "myJob.setUniverse('vanilla')\n",
    "myJob.setOutput(os.path.join(logDir, 'output.txt'))\n",
    "myJob.setError(os.path.join(logDir, 'error.txt'))\n",
    "myJob.setLog(os.path.join(logDir, 'log.txt'))\n",
    "myJob._generateSubmitString()\n",
    "##########################################################\n",
    "\n",
    "# BEGIN SCRIPT ######################\n",
    "subject_list = os.path.join(EXP_DIR, 'scripts/analysis_scripts/subject_lists', subject_list_fname)\n",
    "SUBJS = np.genfromtxt(subject_list, dtype='string')\n",
    "\n",
    "\n",
    "for i,subj in enumerate(SUBJS):\n",
    "\n",
    "    for run in ['LOCALIZER', 'TRAIN1', 'TRAIN2', 'TRAIN3', 'TRAIN4', 'TRAIN5']:\n",
    "\n",
    "        if os.path.exists(os.path.join(EXP_DIR, 'data/func', subj, (run + '.nii.gz'))):\n",
    "            CBT_job = preprocessing.standard(subj, run, EXP_DIR)\n",
    "            myJob.queue(CBT_job)\n",
    "\n",
    "        print 'adding preprocessing job for ' + subj + ' ' + run\n",
    "\n",
    "\n",
    "myJob.saveSubmitFile(os.path.join(logDir, 'preprocessingSubmit.txt'))\n",
    "myJob.submit()\n"
   ]
  }
 ],
 "metadata": {
  "kernelspec": {
   "display_name": "Python 3",
   "language": "python",
   "name": "python3"
  },
  "language_info": {
   "codemirror_mode": {
    "name": "ipython",
    "version": 3
   },
   "file_extension": ".py",
   "mimetype": "text/x-python",
   "name": "python",
   "nbconvert_exporter": "python",
   "pygments_lexer": "ipython3",
   "version": "3.6.4"
  }
 },
 "nbformat": 4,
 "nbformat_minor": 2
}
