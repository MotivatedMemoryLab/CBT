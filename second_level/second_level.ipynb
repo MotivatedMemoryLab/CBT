{
 "cells": [
  {
   "cell_type": "markdown",
   "metadata": {},
   "source": [
    "# Second Level Analysis"
   ]
  },
  {
   "cell_type": "code",
   "execution_count": 1,
   "metadata": {},
   "outputs": [],
   "source": [
    "import sys\n",
    "import os \n",
    "import shutil\n",
    "import numpy as np"
   ]
  },
  {
   "cell_type": "markdown",
   "metadata": {},
   "source": [
    "change here:"
   ]
  },
  {
   "cell_type": "code",
   "execution_count": 2,
   "metadata": {},
   "outputs": [],
   "source": [
    "EXP_DIR = '/Volumes/adcock_lab/main/studies/CBT.01'"
   ]
  },
  {
   "cell_type": "markdown",
   "metadata": {},
   "source": [
    "## Standard Model"
   ]
  },
  {
   "cell_type": "code",
   "execution_count": null,
   "metadata": {},
   "outputs": [],
   "source": [
    "def standard_model(SUBJ, run_type):\n",
    "    \"\"\"\n",
    "    Standard, simple second level analysis for TRAIN data\n",
    "\n",
    "    \"\"\"\n",
    "\n",
    "    # config vars:\n",
    "    template = (run_type + '_secondlevel_standard_mean_2runs.fsf')\n",
    "    template_path = os.path.join(EXP_DIR, 'scripts/analysis_scripts/fMRI_workflow/FEAT_templates/secondlevel', template)\n",
    "    \n",
    "    # inputs\n",
    "    firstlevel_dir = os.path.join(EXP_DIR, 'analysis/firstlevel/standard_with_feedback_2', SUBJ)\n",
    "\n",
    "    # outputs\n",
    "    output_dir = os.path.join(EXP_DIR, 'analysis/secondlevel/standard_with_feedback_2', SUBJ)\n",
    "    if not os.path.isdir(output_dir):\n",
    "        os.makedirs(output_dir)\n",
    "    output_FSL = os.path.join(output_dir, run_type)\n",
    "\n",
    "    if os.path.isdir(os.path.join(output_FSL + '.gfeat')):\n",
    "        shutil.rmtree(os.path.join(output_FSL + '.gfeat'))\n",
    "    \n",
    "    # open the template file in 'read' mode, extract all of the text\n",
    "    template_file = open(template_path, 'r')\n",
    "    text = template_file.read() \n",
    "    template_file.close()\n",
    "    \n",
    "    # make substitutions to template text\n",
    "    text = text.replace('SUB_OUTPUT_DIR_SUB', output_FSL)\n",
    "    text = text.replace('SUB_INPUT1_SUB', os.path.join(firstlevel_dir, 'TRAIN1.feat'))\n",
    "    text = text.replace('SUB_INPUT2_SUB', os.path.join(firstlevel_dir, 'TRAIN2.feat'))\n",
    "    # text = text.replace('SUB_INPUT3_SUB', os.path.join(firstlevel_dir, 'TRAIN3.feat'))\n",
    "    # text = text.replace('SUB_INPUT4_SUB', os.path.join(firstlevel_dir, 'TRAIN4.feat'))\n",
    "    # text = text.replace('SUB_INPUT5_SUB', os.path.join(firstlevel_dir, 'TRAIN5.feat'))\n",
    "            \n",
    "    # write the new text to a unique .fsf file\n",
    "    new_feat_fname = os.path.join(output_dir, (run_type + '_standard_with_feedback.fsf'))\n",
    "    new_feat = open(new_feat_fname, 'w')\n",
    "    new_feat.write(text)\n",
    "    new_feat.close()\n",
    "    \n",
    "    # create job\n",
    "    job = ('feat ' + new_feat_fname)\n",
    "    return job"
   ]
  },
  {
   "cell_type": "markdown",
   "metadata": {},
   "source": [
    "## PPI Model"
   ]
  },
  {
   "cell_type": "code",
   "execution_count": null,
   "metadata": {},
   "outputs": [],
   "source": [
    "def PPI_modle(SUBJ, run_type, ROI):\n",
    "    # config vars:\n",
    "    template = (run_type + '_secondlevel_PPI.fsf')\n",
    "    template_path = os.path.join(EXP_DIR, 'scripts/fMRI_workflow/FEAT_templates/secondlevel', template)\n",
    "    \n",
    "    # inputs\n",
    "    firstlevel_dir = os.path.join(EXP_DIR, 'analysis/firstlevel', ('PPI_' + ROI), SUBJ)\n",
    "    \n",
    "    # outputs\n",
    "    output_dir = os.path.join(EXP_DIR, 'analysis/secondlevel', ('PPI_' + ROI), SUBJ)\n",
    "    if not os.path.isdir(output_dir):\n",
    "        os.makedirs(output_dir)\n",
    "    output_FSL = os.path.join(output_dir, run_type)\n",
    "\n",
    "    if os.path.isdir(os.path.join(output_FSL + '.gfeat')):\n",
    "        shutil.rmtree(os.path.join(output_FSL + '.gfeat'))\n",
    "    \n",
    "    # open the template file in 'read' mode, extract all of the text\n",
    "    template_file = open(template_path, 'r')\n",
    "    text = template_file.read() \n",
    "    template_file.close()\n",
    "    \n",
    "    # make substitutions to template text\n",
    "    text = text.replace('SUB_OUTPUT_DIR_SUB', output_FSL)\n",
    "    if run_type == 'TEST':\n",
    "        text = text.replace('SUB_INPUT1_SUB', os.path.join(firstlevel_dir, 'TEST1.feat'))\n",
    "        text = text.replace('SUB_INPUT2_SUB', os.path.join(firstlevel_dir, 'TEST2.feat'))\n",
    "    elif run_type == 'TRAIN':\n",
    "        text = text.replace('SUB_INPUT1_SUB', os.path.join(firstlevel_dir, 'TRAIN1.feat'))\n",
    "        text = text.replace('SUB_INPUT2_SUB', os.path.join(firstlevel_dir, 'TRAIN2.feat'))\n",
    "        text = text.replace('SUB_INPUT3_SUB', os.path.join(firstlevel_dir, 'TRAIN3.feat'))\n",
    "    \n",
    "    # write the new text to a unique .fsf file\n",
    "    new_feat_fname = os.path.join(output_dir, (run_type + '_' + ROI + '_PPI.fsf'))\n",
    "    new_feat = open(new_feat_fname, 'w')\n",
    "    new_feat.write(text)\n",
    "    new_feat.close()\n",
    "    \n",
    "    # create job\n",
    "    job = ('feat ' + new_feat_fname)\n",
    "    return job"
   ]
  },
  {
   "cell_type": "markdown",
   "metadata": {},
   "source": [
    "## THERM Model"
   ]
  },
  {
   "cell_type": "code",
   "execution_count": null,
   "metadata": {},
   "outputs": [],
   "source": [
    "def THERM_model(SUBJ):\n",
    "    \"\"\"\n",
    "    Thermometer model for Training runs\n",
    "    \"\"\"\n",
    "    # config vars:\n",
    "    template = 'TRAIN_secondlevel_THERM.fsf'\n",
    "    template_path = os.path.join(EXP_DIR, 'scripts/fMRI_workflow/FEAT_templates/secondlevel', template)\n",
    "\n",
    "    # inputs\n",
    "    firstlevel_dir = os.path.join(EXP_DIR, 'analysis/firstlevel/THERM_model', SUBJ)\n",
    "    \n",
    "    # outputs\n",
    "    output_dir = os.path.join(EXP_DIR, 'analysis/secondlevel/THERM_model', SUBJ)\n",
    "    if not os.path.isdir(output_dir):\n",
    "        os.makedirs(output_dir)\n",
    "    output_FSL = os.path.join(output_dir, 'TRAIN')\n",
    "\n",
    "    if os.path.isdir(os.path.join(output_FSL + '.gfeat')):\n",
    "        shutil.rmtree(os.path.join(output_FSL + '.gfeat'))\n",
    "    \n",
    "    # open the template file in 'read' mode, extract all of the text\n",
    "    template_file = open(template_path, 'r')\n",
    "    text = template_file.read() \n",
    "    template_file.close()\n",
    "    \n",
    "    # make substitutions to template text\n",
    "    text = text.replace('SUB_OUTPUT_DIR_SUB', output_FSL)\n",
    "    text = text.replace('SUB_INPUT1_SUB', os.path.join(firstlevel_dir, 'TRAIN1.feat'))\n",
    "    text = text.replace('SUB_INPUT2_SUB', os.path.join(firstlevel_dir, 'TRAIN2.feat'))\n",
    "    text = text.replace('SUB_INPUT3_SUB', os.path.join(firstlevel_dir, 'TRAIN3.feat'))\n",
    "    \n",
    "    # write the new text to a unique .fsf file\n",
    "    new_feat_fname = os.path.join(output_dir, 'TRAIN_THERM.fsf')\n",
    "    new_feat = open(new_feat_fname, 'w')\n",
    "    new_feat.write(text)\n",
    "    new_feat.close()\n",
    "    \n",
    "    # create job\n",
    "    job = ('feat ' + new_feat_fname)\n",
    "    return job"
   ]
  }
 ],
 "metadata": {
  "kernelspec": {
   "display_name": "Python 3",
   "language": "python",
   "name": "python3"
  },
  "language_info": {
   "codemirror_mode": {
    "name": "ipython",
    "version": 3
   },
   "file_extension": ".py",
   "mimetype": "text/x-python",
   "name": "python",
   "nbconvert_exporter": "python",
   "pygments_lexer": "ipython3",
   "version": "3.6.4"
  }
 },
 "nbformat": 4,
 "nbformat_minor": 2
}
