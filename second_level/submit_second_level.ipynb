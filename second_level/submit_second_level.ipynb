{
 "cells": [
  {
   "cell_type": "markdown",
   "metadata": {},
   "source": [
    "# Submit Job to Condor"
   ]
  },
  {
   "cell_type": "code",
   "execution_count": null,
   "metadata": {},
   "outputs": [],
   "source": [
    "import sys\n",
    "import os\n",
    "import numpy as np\n",
    "import CBT_secondlevel\n",
    "import condor"
   ]
  },
  {
   "cell_type": "markdown",
   "metadata": {},
   "source": [
    "change here:"
   ]
  },
  {
   "cell_type": "code",
   "execution_count": 1,
   "metadata": {},
   "outputs": [],
   "source": [
    "EXP_DIR = '/Volumes/adcock_lab/main/studies/CBT.01'\n",
    "subject_list_fname = 'CBT_subjs_2.txt'\n",
    "#PPI_ROIs = ['NAc_spheres', 'prob_VTA_atlas_2mm']"
   ]
  },
  {
   "cell_type": "markdown",
   "metadata": {},
   "source": [
    "submission begins"
   ]
  },
  {
   "cell_type": "code",
   "execution_count": null,
   "metadata": {},
   "outputs": [],
   "source": [
    "# INITIALIZE CONDOR CLUSTER SUBMIT JOB #########################\n",
    "myJob = condor.Job()\n",
    "logDir = os.path.join(EXP_DIR, 'scripts/condor_logs')\n",
    "myJob.setUniverse('vanilla')                                \n",
    "myJob.setOutput(os.path.join(logDir, 'output.txt'))\n",
    "myJob.setError(os.path.join(logDir, 'secondlevel_error.txt'))    \n",
    "myJob.setLog(os.path.join(logDir, 'log.txt'))            \n",
    "myJob._generateSubmitString()\n",
    "##########################################################\n",
    "\n",
    "# BEGIN SCRIPT ######################\n",
    "subject_list = os.path.join(EXP_DIR, 'scripts/analysis_scripts/subject_lists', subject_list_fname)\n",
    "SUBJS = np.genfromtxt(subject_list, dtype='string')\n",
    "if SUBJS.shape == ():\n",
    "    SUBJS = [str(SUBJS)]\n",
    "# SUBJS = ['19338', '19397']\n",
    "\n",
    "for i,subj in enumerate(SUBJS):\n",
    "\n",
    "    for run_type in ['TRAIN']:\n",
    "        \n",
    "        # STANDARD MODEL\n",
    "        standard_job = CBT_secondlevel.standard_model(subj, run_type)\n",
    "        myJob.queue(standard_job)\n",
    "\n",
    "        # THERM MODEL\n",
    "        #if run_type == 'TRAIN':\n",
    "        #    THERM_job = SRM_secondlevel.THERM_model(subj)\n",
    "        #    myJob.queue(THERM_job)\n",
    "\n",
    "        # PPI MODEL\n",
    "        #for ROI in PPI_ROIs:\n",
    "        #    PPI_job = SRM_secondlevel.PPI_model(subj, run_type, ROI)\n",
    "        #    myJob.queue(PPI_job)\n",
    "\n",
    "\n",
    "        print 'added jobs for ' + subj + ' run ' + run_type\n",
    "\n",
    "myJob.saveSubmitFile(os.path.join(logDir, 'secondlevelSubmit.txt'))\n",
    "myJob.submit()"
   ]
  }
 ],
 "metadata": {
  "kernelspec": {
   "display_name": "Python 3",
   "language": "python",
   "name": "python3"
  },
  "language_info": {
   "codemirror_mode": {
    "name": "ipython",
    "version": 3
   },
   "file_extension": ".py",
   "mimetype": "text/x-python",
   "name": "python",
   "nbconvert_exporter": "python",
   "pygments_lexer": "ipython3",
   "version": "3.6.4"
  }
 },
 "nbformat": 4,
 "nbformat_minor": 2
}
