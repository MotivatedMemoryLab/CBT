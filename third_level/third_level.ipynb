{
 "cells": [
  {
   "cell_type": "markdown",
   "metadata": {},
   "source": [
    "# Third Level Analysis"
   ]
  },
  {
   "cell_type": "code",
   "execution_count": 1,
   "metadata": {},
   "outputs": [],
   "source": [
    "import os\n",
    "import sys\n",
    "import string\n",
    "import numpy as np\n",
    "import shutil"
   ]
  },
  {
   "cell_type": "markdown",
   "metadata": {},
   "source": [
    "change here:"
   ]
  },
  {
   "cell_type": "code",
   "execution_count": 2,
   "metadata": {},
   "outputs": [],
   "source": [
    "EXP_DIR = '/Volumes/adcock_lab/main/studies/CBT.01'"
   ]
  },
  {
   "cell_type": "markdown",
   "metadata": {},
   "source": [
    "## Third Level Model"
   ]
  },
  {
   "cell_type": "code",
   "execution_count": null,
   "metadata": {},
   "outputs": [],
   "source": [
    "def make_FSF_file(model_name, run_type, cope):\n",
    "    \n",
    "    # config vars\n",
    "    template = (run_type + '_thirdlevel_12subs_fb_events.fsf')\n",
    "    template_path = os.path.join(EXP_DIR, 'scripts/analysis_scripts/fMRI_workflow/FEAT_templates/thirdlevel', template)\n",
    "\n",
    "    # outputs\n",
    "    output_dir = os.path.join(EXP_DIR, 'analysis/thirdlevel', model_name, '12subs_fb_events')\n",
    "    if not os.path.isdir(output_dir):\n",
    "        os.makedirs(output_dir)\n",
    "    output_FSL = os.path.join(output_dir, (run_type + '_cope' + str(cope)))\n",
    "\n",
    "    if os.path.isdir(os.path.join(output_FSL + '.gfeat')):\n",
    "        shutil.rmtree(os.path.join(output_FSL + '.gfeat'))\n",
    "\n",
    "    # open the template file in 'read' mode, extract all of the text\n",
    "    template_file = open(template_path, 'r')\n",
    "    text = template_file.read() \n",
    "    template_file.close()\n",
    "\n",
    "    # make substitutions to the template text\n",
    "    text = text.replace('SUB_OUTPUT_DIR_SUB', output_FSL)\n",
    "    text = text.replace('SUB_MODEL_SUB', model_name)\n",
    "    text = text.replace('SUB_COPE_SUB', str(cope))\n",
    "\n",
    "    # write the new text to a unique .fsf file\n",
    "    new_feat_fname = os.path.join(output_dir, (run_type + '_' + 'cope' + str(cope) + '_' + model_name + '.fsf'))\n",
    "    new_feat = open(new_feat_fname, 'w')\n",
    "    new_feat.write(text)\n",
    "    new_feat.close()\n",
    "    \n",
    "    # create job\n",
    "    job = ('feat ' + new_feat_fname)\n",
    "    return job"
   ]
  }
 ],
 "metadata": {
  "kernelspec": {
   "display_name": "Python 3",
   "language": "python",
   "name": "python3"
  },
  "language_info": {
   "codemirror_mode": {
    "name": "ipython",
    "version": 3
   },
   "file_extension": ".py",
   "mimetype": "text/x-python",
   "name": "python",
   "nbconvert_exporter": "python",
   "pygments_lexer": "ipython3",
   "version": "3.6.4"
  }
 },
 "nbformat": 4,
 "nbformat_minor": 2
}
