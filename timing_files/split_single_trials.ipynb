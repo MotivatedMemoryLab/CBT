{
 "cells": [
  {
   "cell_type": "markdown",
   "metadata": {},
   "source": [
    "# Split single trial timing files"
   ]
  },
  {
   "cell_type": "code",
   "execution_count": 22,
   "metadata": {},
   "outputs": [],
   "source": [
    "import os\n",
    "from shutil import rmtree, copyfile"
   ]
  },
  {
   "cell_type": "markdown",
   "metadata": {},
   "source": [
    "## load timing files"
   ]
  },
  {
   "cell_type": "code",
   "execution_count": 23,
   "metadata": {},
   "outputs": [],
   "source": [
    "folders = os.listdir(\".\")"
   ]
  },
  {
   "cell_type": "code",
   "execution_count": 24,
   "metadata": {},
   "outputs": [],
   "source": [
    "folders = [f for f in folders if all([os.path.isdir(f), f.startswith(\"19\"), len(f) == 5])]"
   ]
  },
  {
   "cell_type": "markdown",
   "metadata": {},
   "source": [
    "## For trigger timing files, we split each line to a single file"
   ]
  },
  {
   "cell_type": "code",
   "execution_count": 25,
   "metadata": {},
   "outputs": [],
   "source": [
    "def split_trigger_timing(path, file_name):\n",
    "    lines = []\n",
    "    with open(os.path.join(path, file_name), 'r') as f:\n",
    "        lines = f.readlines()\n",
    "    file_handle = file_name.rstrip(\".txt\") \n",
    "    for i, line in enumerate(lines):\n",
    "        with open(os.path.join(path, \"single_trial\", file_handle + \"_\" + str(i + 1) + \".txt\"), \"w\") as f:\n",
    "            f.write(line)"
   ]
  },
  {
   "cell_type": "markdown",
   "metadata": {},
   "source": [
    "## For strategy timing files, we want to group trials during which the subjects are given the same strategy to one file"
   ]
  },
  {
   "cell_type": "code",
   "execution_count": 26,
   "metadata": {},
   "outputs": [],
   "source": [
    "def build_strategy_group(file_name):\n",
    "    \"\"\"This is for figuring out which trials in strategy to put in the same group\n",
    "    \"\"\"\n",
    "    strategy_dict = {}\n",
    "    with open(file_name, 'r') as f:\n",
    "        line_dict = {}\n",
    "        for i, line in enumerate(f):\n",
    "            info = line.split(\"\\t\")\n",
    "            info[0] = info[0].strip()\n",
    "            info[1] = info[1].strip()\n",
    "            if info[1] in line_dict:\n",
    "                line_dict[info[1]].append(i % 4)\n",
    "            else:\n",
    "                line_dict[info[1]] = [i % 4]\n",
    "            if i % 4 == 3:\n",
    "                strategy_dict[i // 4 + 1] = line_dict.values()\n",
    "                line_dict = {}\n",
    "    return strategy_dict"
   ]
  },
  {
   "cell_type": "code",
   "execution_count": 32,
   "metadata": {},
   "outputs": [],
   "source": [
    "def split_strategy_timing(path, file_name, strategy_dict):\n",
    "    lines = []\n",
    "    with open(os.path.join(path, file_name), 'r') as f:\n",
    "        lines = f.readlines()\n",
    "    file_handle = file_name.rstrip(\".txt\")\n",
    "    file_run = file_name.split(\"_\")[1][-1]\n",
    "    for i, group in enumerate(strategy_dict[int(file_run)]):\n",
    "        with open(os.path.join(path, \"single_trial\", file_handle + \"_\" + str(i + 1) + \".txt\"), \"w\") as f:\n",
    "            for g in group:\n",
    "                f.write(lines[g])"
   ]
  },
  {
   "cell_type": "markdown",
   "metadata": {},
   "source": [
    "## For resting trials, we simply copy them"
   ]
  },
  {
   "cell_type": "code",
   "execution_count": 33,
   "metadata": {},
   "outputs": [],
   "source": [
    "def copy_rest_timing(path, file_name):\n",
    "    copyfile(os.path.join(path, file_name), os.path.join(path, \"single_trial\", file_name))"
   ]
  },
  {
   "cell_type": "code",
   "execution_count": 36,
   "metadata": {},
   "outputs": [],
   "source": [
    "for folder in folders:\n",
    "    files = os.listdir(folder)\n",
    "    sub_path = os.path.join(\".\", folder, \"timing_files\", \"standard\")\n",
    "    # create a new folder\n",
    "    single_trial_folder = os.path.join(sub_path, \"single_trial\")\n",
    "    if os.path.exists(single_trial_folder):\n",
    "        rmtree(single_trial_folder)\n",
    "    os.mkdir(single_trial_folder)\n",
    "    # create strategy group\n",
    "    strategy_dict = build_strategy_group(os.path.join(\".\", folder, folder + \"_trial_pairings.txt\"))\n",
    "    # go through folders\n",
    "    for f in os.listdir(sub_path):\n",
    "        if f.startswith(\"CBT\") and \"train\" in f:\n",
    "            if \"TRIGGER\" in f:\n",
    "                split_trigger_timing(sub_path, f)\n",
    "            elif \"STRATEGY\" in f:\n",
    "                split_strategy_timing(sub_path, f, strategy_dict)  \n",
    "            elif \"REST\" in f:\n",
    "                copy_rest_timing(sub_path, f)"
   ]
  },
  {
   "cell_type": "code",
   "execution_count": null,
   "metadata": {},
   "outputs": [],
   "source": []
  }
 ],
 "metadata": {
  "kernelspec": {
   "display_name": "Python 3",
   "language": "python",
   "name": "python3"
  },
  "language_info": {
   "codemirror_mode": {
    "name": "ipython",
    "version": 3
   },
   "file_extension": ".py",
   "mimetype": "text/x-python",
   "name": "python",
   "nbconvert_exporter": "python",
   "pygments_lexer": "ipython3",
   "version": "3.7.3"
  }
 },
 "nbformat": 4,
 "nbformat_minor": 2
}
